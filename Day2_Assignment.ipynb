{
  "nbformat": 4,
  "nbformat_minor": 0,
  "metadata": {
    "colab": {
      "name": "Day2 Assignment.ipynb",
      "provenance": [],
      "collapsed_sections": [
        "uUhu73S7pQRZ",
        "Zzr3S8tVwMfe",
        "7pquFk7U17eq",
        "uGCuIJDl4QZs",
        "RDVytNOT5dha"
      ],
      "authorship_tag": "ABX9TyPGLFUDByN7jiBHqcvOQzfy",
      "include_colab_link": true
    },
    "kernelspec": {
      "name": "python3",
      "display_name": "Python 3"
    }
  },
  "cells": [
    {
      "cell_type": "markdown",
      "metadata": {
        "id": "view-in-github",
        "colab_type": "text"
      },
      "source": [
        "<a href=\"https://colab.research.google.com/github/sssinghsimran7/Day-2-let-supgrade/blob/master/Day2_Assignment.ipynb\" target=\"_parent\"><img src=\"https://colab.research.google.com/assets/colab-badge.svg\" alt=\"Open In Colab\"/></a>"
      ]
    },
    {
      "cell_type": "markdown",
      "metadata": {
        "id": "uUhu73S7pQRZ",
        "colab_type": "text"
      },
      "source": [
        "# list"
      ]
    },
    {
      "cell_type": "code",
      "metadata": {
        "id": "YWZMvLj-iNel",
        "colab_type": "code",
        "colab": {
          "base_uri": "https://localhost:8080/",
          "height": 34
        },
        "outputId": "54f3cb3a-374c-41ac-ccdb-2466f8b866f3"
      },
      "source": [
        "lst =[1,\"abc\",2,3]\n",
        "lst"
      ],
      "execution_count": null,
      "outputs": [
        {
          "output_type": "execute_result",
          "data": {
            "text/plain": [
              "[1, 'abc', 2, 3]"
            ]
          },
          "metadata": {
            "tags": []
          },
          "execution_count": 14
        }
      ]
    },
    {
      "cell_type": "code",
      "metadata": {
        "id": "s_Pf02iAjr27",
        "colab_type": "code",
        "colab": {
          "base_uri": "https://localhost:8080/",
          "height": 34
        },
        "outputId": "8e0b7a73-6304-4098-b331-e4f93cdcfa3c"
      },
      "source": [
        "lst =[1,\"abc\",2,3]\n",
        "lst.append(\"simran\")\n",
        "lst"
      ],
      "execution_count": null,
      "outputs": [
        {
          "output_type": "execute_result",
          "data": {
            "text/plain": [
              "[1, 'abc', 2, 3, 'simran']"
            ]
          },
          "metadata": {
            "tags": []
          },
          "execution_count": 21
        }
      ]
    },
    {
      "cell_type": "code",
      "metadata": {
        "id": "j36B59oElQbc",
        "colab_type": "code",
        "colab": {
          "base_uri": "https://localhost:8080/",
          "height": 34
        },
        "outputId": "34f504ae-b9f4-4c67-f6f4-7745c57ae857"
      },
      "source": [
        "lst =[1,\"abc\",2,3]\n",
        "lst.clear()\n",
        "lst"
      ],
      "execution_count": null,
      "outputs": [
        {
          "output_type": "execute_result",
          "data": {
            "text/plain": [
              "[]"
            ]
          },
          "metadata": {
            "tags": []
          },
          "execution_count": 23
        }
      ]
    },
    {
      "cell_type": "code",
      "metadata": {
        "id": "5dJbN9lOl-aE",
        "colab_type": "code",
        "colab": {
          "base_uri": "https://localhost:8080/",
          "height": 34
        },
        "outputId": "3e062f62-530f-4aae-ee75-bba95f3827d3"
      },
      "source": [
        "lst =[1,\"abc\",2,3]\n",
        "lst.copy()\n",
        "print (lst)"
      ],
      "execution_count": null,
      "outputs": [
        {
          "output_type": "stream",
          "text": [
            "[1, 'abc', 2, 3]\n"
          ],
          "name": "stdout"
        }
      ]
    },
    {
      "cell_type": "code",
      "metadata": {
        "id": "O4_CYq8amR6O",
        "colab_type": "code",
        "colab": {
          "base_uri": "https://localhost:8080/",
          "height": 34
        },
        "outputId": "fe4b353d-9a96-47a8-dd13-ae07785168bd"
      },
      "source": [
        " lst =[1,\"abc\",2,2,4,5,7,3,2,3]\n",
        "x =lst.count(2)\n",
        "print(x)"
      ],
      "execution_count": null,
      "outputs": [
        {
          "output_type": "stream",
          "text": [
            "3\n"
          ],
          "name": "stdout"
        }
      ]
    },
    {
      "cell_type": "code",
      "metadata": {
        "id": "-zlXntwCn7xA",
        "colab_type": "code",
        "colab": {
          "base_uri": "https://localhost:8080/",
          "height": 54
        },
        "outputId": "c83cb0ab-265d-4370-fb94-a4353752c615"
      },
      "source": [
        " \n",
        "fruits = ['apple', 'banana', 'cherry']\n",
        "cars = ['Ford', 'BMW', 'Volvo']\n",
        "fruits.extend(cars)\n",
        "print(fruits)"
      ],
      "execution_count": null,
      "outputs": [
        {
          "output_type": "stream",
          "text": [
            "['apple', 'banana', 'cherry', 'Ford', 'BMW', 'Volvo']\n"
          ],
          "name": "stdout"
        }
      ]
    },
    {
      "cell_type": "code",
      "metadata": {
        "id": "kPKjDooZn9M9",
        "colab_type": "code",
        "colab": {
          "base_uri": "https://localhost:8080/",
          "height": 34
        },
        "outputId": "e8dd55ed-cb44-4ac3-a42b-c016885180c8"
      },
      "source": [
        " fruits = ['apple', 'banana', 'cherry']\n",
        "x =fruits.index(\"banana\")\n",
        "print(x)"
      ],
      "execution_count": null,
      "outputs": [
        {
          "output_type": "stream",
          "text": [
            "1\n"
          ],
          "name": "stdout"
        }
      ]
    },
    {
      "cell_type": "code",
      "metadata": {
        "id": "lOGdI6IDtv7V",
        "colab_type": "code",
        "colab": {
          "base_uri": "https://localhost:8080/",
          "height": 54
        },
        "outputId": "51b5fef0-af6b-4abb-f5b0-70610847a60b"
      },
      "source": [
        " fruits = ['apple', 'banana', 'cherry']\n",
        "fruits.insert(0,\"strawberry\")\n",
        "print(fruits)"
      ],
      "execution_count": 46,
      "outputs": [
        {
          "output_type": "stream",
          "text": [
            "['strawberry', 'apple', 'banana', 'cherry']\n"
          ],
          "name": "stdout"
        }
      ]
    },
    {
      "cell_type": "code",
      "metadata": {
        "id": "CU9IvufhtwuT",
        "colab_type": "code",
        "colab": {
          "base_uri": "https://localhost:8080/",
          "height": 34
        },
        "outputId": "185f1487-452e-463f-d006-de71f4629730"
      },
      "source": [
        " fruits = ['apple', 'banana', 'cherry']\n",
        "fruits.pop(1)\n",
        "print(fruits)"
      ],
      "execution_count": 47,
      "outputs": [
        {
          "output_type": "stream",
          "text": [
            "['apple', 'cherry']\n"
          ],
          "name": "stdout"
        }
      ]
    },
    {
      "cell_type": "code",
      "metadata": {
        "id": "vjuj7ce_txV0",
        "colab_type": "code",
        "colab": {
          "base_uri": "https://localhost:8080/",
          "height": 34
        },
        "outputId": "376c7f27-50e1-45b8-9266-944cb85712e3"
      },
      "source": [
        "  fruits = ['apple', 'banana', 'cherry']\n",
        "fruits.remove(\"banana\")\n",
        "print(fruits)"
      ],
      "execution_count": 48,
      "outputs": [
        {
          "output_type": "stream",
          "text": [
            "['apple', 'cherry']\n"
          ],
          "name": "stdout"
        }
      ]
    },
    {
      "cell_type": "code",
      "metadata": {
        "id": "dHvcsuzItx-G",
        "colab_type": "code",
        "colab": {
          "base_uri": "https://localhost:8080/",
          "height": 34
        },
        "outputId": "163ed3ba-c706-49ea-9fab-348adf342d4f"
      },
      "source": [
        "  fruits = ['apple', 'banana', 'cherry']\n",
        "fruits.reverse()\n",
        "print(fruits)"
      ],
      "execution_count": 49,
      "outputs": [
        {
          "output_type": "stream",
          "text": [
            "['cherry', 'banana', 'apple']\n"
          ],
          "name": "stdout"
        }
      ]
    },
    {
      "cell_type": "code",
      "metadata": {
        "id": "3T_JJoGYtyv2",
        "colab_type": "code",
        "colab": {
          "base_uri": "https://localhost:8080/",
          "height": 34
        },
        "outputId": "9e49cf7b-a962-4247-9ad2-b0481268c68f"
      },
      "source": [
        " fruits = ['cherry', 'banana', 'apple']\n",
        "fruits.sort()\n",
        "print(fruits)"
      ],
      "execution_count": 51,
      "outputs": [
        {
          "output_type": "stream",
          "text": [
            "['apple', 'banana', 'cherry']\n"
          ],
          "name": "stdout"
        }
      ]
    },
    {
      "cell_type": "markdown",
      "metadata": {
        "id": "Zzr3S8tVwMfe",
        "colab_type": "text"
      },
      "source": [
        "# dictionary"
      ]
    },
    {
      "cell_type": "code",
      "metadata": {
        "id": "-SFuwirnwUwt",
        "colab_type": "code",
        "colab": {
          "base_uri": "https://localhost:8080/",
          "height": 54
        },
        "outputId": "9fdadea6-625d-4bcb-baed-fe9b4b46cc4b"
      },
      "source": [
        " car = {\n",
        "  \"brand\": \"Ford\",\n",
        "  \"model\": \"Mustang\",\n",
        "  \"year\": 1964\n",
        "}\n",
        " print(car)"
      ],
      "execution_count": 54,
      "outputs": [
        {
          "output_type": "stream",
          "text": [
            "{'brand': 'Ford', 'model': 'Mustang', 'year': 1964}\n"
          ],
          "name": "stdout"
        }
      ]
    },
    {
      "cell_type": "code",
      "metadata": {
        "id": "5RlXrSU0w03G",
        "colab_type": "code",
        "colab": {
          "base_uri": "https://localhost:8080/",
          "height": 34
        },
        "outputId": "e0287ac2-111f-4166-96a1-d8aae8cfc005"
      },
      "source": [
        " car = {\n",
        "  \"brand\": \"Ford\",\n",
        "  \"model\": \"Mustang\",\n",
        "  \"year\": 1995\n",
        "}\n",
        "car.clear()\n",
        "print(car)"
      ],
      "execution_count": 55,
      "outputs": [
        {
          "output_type": "stream",
          "text": [
            "{}\n"
          ],
          "name": "stdout"
        }
      ]
    },
    {
      "cell_type": "code",
      "metadata": {
        "id": "nPjxUuAow1d5",
        "colab_type": "code",
        "colab": {
          "base_uri": "https://localhost:8080/",
          "height": 54
        },
        "outputId": "4f8933d9-1842-454b-c1d7-6cdb0a9fac4d"
      },
      "source": [
        " car = {\n",
        "  \"brand\": \"Ford\",\n",
        "  \"model\": \"Mustang\",\n",
        "  \"year\": 1995\n",
        "}\n",
        "x = car.copy()\n",
        "print(x)"
      ],
      "execution_count": 56,
      "outputs": [
        {
          "output_type": "stream",
          "text": [
            "{'brand': 'Ford', 'model': 'Mustang', 'year': 1964}\n"
          ],
          "name": "stdout"
        }
      ]
    },
    {
      "cell_type": "code",
      "metadata": {
        "id": "0g8umcLJw1_C",
        "colab_type": "code",
        "colab": {
          "base_uri": "https://localhost:8080/",
          "height": 54
        },
        "outputId": "9bd22cc9-23de-4fb3-b821-77b7f8952855"
      },
      "source": [
        " \n",
        "x = ('key1', 'key2', 'key3')\n",
        "y = (1,2,3)\n",
        "Dit = dict.fromkeys(x, y)\n",
        "print(Dit)"
      ],
      "execution_count": 57,
      "outputs": [
        {
          "output_type": "stream",
          "text": [
            "{'key1': (1, 2, 3), 'key2': (1, 2, 3), 'key3': (1, 2, 3)}\n"
          ],
          "name": "stdout"
        }
      ]
    },
    {
      "cell_type": "code",
      "metadata": {
        "id": "ZOpv5M6Iw2mc",
        "colab_type": "code",
        "colab": {
          "base_uri": "https://localhost:8080/",
          "height": 34
        },
        "outputId": "9d398db8-0b51-4a3f-fd69-78b32c14182b"
      },
      "source": [
        " car = {\n",
        "  \"brand\": \"Ford\",\n",
        "  \"model\": \"Mustang\",\n",
        "  \"year\": 1995\n",
        "}\n",
        "x = car.get(\"model\")\n",
        "print(x)"
      ],
      "execution_count": 58,
      "outputs": [
        {
          "output_type": "stream",
          "text": [
            "Mustang\n"
          ],
          "name": "stdout"
        }
      ]
    },
    {
      "cell_type": "code",
      "metadata": {
        "id": "jZa-XRXEw3HG",
        "colab_type": "code",
        "colab": {
          "base_uri": "https://localhost:8080/",
          "height": 54
        },
        "outputId": "7191b204-ce4f-43b6-9437-e70a7218327e"
      },
      "source": [
        "  car = {\n",
        "  \"brand\": \"Ford\",\n",
        "  \"model\": \"Mustang\",\n",
        "  \"year\": 1995\n",
        "}\n",
        "x = car.items()\n",
        "print(x)"
      ],
      "execution_count": 63,
      "outputs": [
        {
          "output_type": "stream",
          "text": [
            "dict_items([('brand', 'Ford'), ('model', 'Mustang'), ('year', 1995)])\n"
          ],
          "name": "stdout"
        }
      ]
    },
    {
      "cell_type": "code",
      "metadata": {
        "id": "yuZQEG_Rw3mG",
        "colab_type": "code",
        "colab": {
          "base_uri": "https://localhost:8080/",
          "height": 54
        },
        "outputId": "09d4aa9e-d408-4de8-f977-bb3d42f51765"
      },
      "source": [
        "   car = {\n",
        "  \"brand\": \"Ford\",\n",
        "  \"model\": \"Mustang\",\n",
        "  \"year\": 1995\n",
        "}\n",
        "x = car.keys()\n",
        "print(x)"
      ],
      "execution_count": 60,
      "outputs": [
        {
          "output_type": "stream",
          "text": [
            "dict_keys(['brand', 'model', 'year'])\n"
          ],
          "name": "stdout"
        }
      ]
    },
    {
      "cell_type": "code",
      "metadata": {
        "id": "mCrxnoA9w4EY",
        "colab_type": "code",
        "colab": {
          "base_uri": "https://localhost:8080/",
          "height": 54
        },
        "outputId": "602a6ef7-d044-4682-af68-b09735215bbb"
      },
      "source": [
        "   car = {\n",
        "  \"brand\": \"Ford\",\n",
        "  \"model\": \"Mustang\",\n",
        "  \"year\": 1995\n",
        "}\n",
        "car.pop(\"year\")\n",
        "print(car)"
      ],
      "execution_count": 65,
      "outputs": [
        {
          "output_type": "stream",
          "text": [
            "{'brand': 'Ford', 'model': 'Mustang'}\n"
          ],
          "name": "stdout"
        }
      ]
    },
    {
      "cell_type": "code",
      "metadata": {
        "id": "tD1bTBb2w4hB",
        "colab_type": "code",
        "colab": {
          "base_uri": "https://localhost:8080/",
          "height": 54
        },
        "outputId": "16371127-73fa-412d-d44c-6b6472376d6f"
      },
      "source": [
        "    car = {\n",
        "  \"brand\": \"Ford\",\n",
        "  \"model\": \"Mustang\",\n",
        "  \"year\": 1995\n",
        "}\n",
        "car.popitem()\n",
        "print(car)"
      ],
      "execution_count": 69,
      "outputs": [
        {
          "output_type": "stream",
          "text": [
            "{'brand': 'Ford', 'model': 'Mustang'}\n"
          ],
          "name": "stdout"
        }
      ]
    },
    {
      "cell_type": "code",
      "metadata": {
        "id": "QVs7-E5Sw5AH",
        "colab_type": "code",
        "colab": {
          "base_uri": "https://localhost:8080/",
          "height": 54
        },
        "outputId": "97ff25c1-0b6e-4cea-80ec-12e58b6152f6"
      },
      "source": [
        " \n",
        "car = {\n",
        "  \"brand\": \"Ford\",\n",
        "  \"model\": \"Mustang\",\n",
        "  \"year\": 1995\n",
        "}\n",
        "car.update({\"color\": \"silver\"})\n",
        "print(car)"
      ],
      "execution_count": 68,
      "outputs": [
        {
          "output_type": "stream",
          "text": [
            "{'brand': 'Ford', 'model': 'Mustang', 'year': 1995, 'color': 'silver'}\n"
          ],
          "name": "stdout"
        }
      ]
    },
    {
      "cell_type": "code",
      "metadata": {
        "id": "iXmfAOb5w5Z9",
        "colab_type": "code",
        "colab": {
          "base_uri": "https://localhost:8080/",
          "height": 54
        },
        "outputId": "79e8ccf3-1453-46e6-b6e4-1d2e078eaf7d"
      },
      "source": [
        " \n",
        "car = {\n",
        "  \"brand\": \"Ford\",\n",
        "  \"model\": \"Mustang\",\n",
        "  \"year\": 1995\n",
        "}\n",
        "car.values()\n",
        "print(car)"
      ],
      "execution_count": 70,
      "outputs": [
        {
          "output_type": "stream",
          "text": [
            "{'brand': 'Ford', 'model': 'Mustang', 'year': 1995}\n"
          ],
          "name": "stdout"
        }
      ]
    },
    {
      "cell_type": "markdown",
      "metadata": {
        "id": "7pquFk7U17eq",
        "colab_type": "text"
      },
      "source": [
        "# Sets"
      ]
    },
    {
      "cell_type": "code",
      "metadata": {
        "id": "e3sIeAUxw6JY",
        "colab_type": "code",
        "colab": {
          "base_uri": "https://localhost:8080/",
          "height": 34
        },
        "outputId": "d6bd4a53-c113-4d78-a920-abb9720957ed"
      },
      "source": [
        " fruits = {\"apple\", \"banana\", \"cherry\"}\n",
        "print(fruits)"
      ],
      "execution_count": 72,
      "outputs": [
        {
          "output_type": "stream",
          "text": [
            "{'cherry', 'banana', 'apple'}\n"
          ],
          "name": "stdout"
        }
      ]
    },
    {
      "cell_type": "code",
      "metadata": {
        "id": "9hoA1Juiw5xl",
        "colab_type": "code",
        "colab": {
          "base_uri": "https://localhost:8080/",
          "height": 54
        },
        "outputId": "4ea91c99-83fd-40a3-8181-07ad94c76afc"
      },
      "source": [
        "fruits = {\"apple\", \"banana\", \"cherry\"}\n",
        "fruits.add(\"orange\")\n",
        "print(fruits)"
      ],
      "execution_count": 71,
      "outputs": [
        {
          "output_type": "stream",
          "text": [
            "{'orange', 'cherry', 'banana', 'apple'}\n"
          ],
          "name": "stdout"
        }
      ]
    },
    {
      "cell_type": "code",
      "metadata": {
        "id": "le6pIMFJw6hJ",
        "colab_type": "code",
        "colab": {
          "base_uri": "https://localhost:8080/",
          "height": 34
        },
        "outputId": "a08cf631-958d-49cc-e7db-33d4a1bce3e7"
      },
      "source": [
        " x = {\"apple\", \"banana\", \"cherry\"}\n",
        "y = {\"google\", \"microsoft\", \"apple\"}\n",
        "z = x.difference(y)\n",
        "print(z)"
      ],
      "execution_count": 74,
      "outputs": [
        {
          "output_type": "stream",
          "text": [
            "{'banana', 'cherry'}\n"
          ],
          "name": "stdout"
        }
      ]
    },
    {
      "cell_type": "code",
      "metadata": {
        "id": "W9FozAHcw64n",
        "colab_type": "code",
        "colab": {
          "base_uri": "https://localhost:8080/",
          "height": 34
        },
        "outputId": "454dd52c-a53c-420c-8c5b-5fe70ff0b754"
      },
      "source": [
        "x = {\"apple\", \"banana\", \"cherry\"}\n",
        "y = {\"google\", \"microsoft\", \"apple\"}\n",
        "x.difference_update(y)\n",
        "print(x)"
      ],
      "execution_count": 78,
      "outputs": [
        {
          "output_type": "stream",
          "text": [
            "{'cherry', 'banana'}\n"
          ],
          "name": "stdout"
        }
      ]
    },
    {
      "cell_type": "code",
      "metadata": {
        "id": "7rHooU_uw7S_",
        "colab_type": "code",
        "colab": {
          "base_uri": "https://localhost:8080/",
          "height": 34
        },
        "outputId": "9b331138-46ab-49f4-fa98-7a9bd96e31a4"
      },
      "source": [
        "fruits = {\"apple\", \"banana\", \"cherry\"}\n",
        "fruits.discard(\"banana\")\n",
        "print(fruits)"
      ],
      "execution_count": 80,
      "outputs": [
        {
          "output_type": "stream",
          "text": [
            "{'cherry', 'apple'}\n"
          ],
          "name": "stdout"
        }
      ]
    },
    {
      "cell_type": "code",
      "metadata": {
        "id": "NI3FngABw7rI",
        "colab_type": "code",
        "colab": {
          "base_uri": "https://localhost:8080/",
          "height": 54
        },
        "outputId": "d317df20-b6be-42c9-e07f-1e530f4b9484"
      },
      "source": [
        " x = {\"apple\", \"banana\", \"cherry\"}\n",
        "y = {\"google\", \"microsoft\", \"apple\"}\n",
        "z = x.union(y)\n",
        "print(z)"
      ],
      "execution_count": 81,
      "outputs": [
        {
          "output_type": "stream",
          "text": [
            "{'banana', 'microsoft', 'apple', 'google', 'cherry'}\n"
          ],
          "name": "stdout"
        }
      ]
    },
    {
      "cell_type": "markdown",
      "metadata": {
        "id": "uGCuIJDl4QZs",
        "colab_type": "text"
      },
      "source": [
        "#tuple"
      ]
    },
    {
      "cell_type": "code",
      "metadata": {
        "id": "FsUxvNKQw8Ew",
        "colab_type": "code",
        "colab": {
          "base_uri": "https://localhost:8080/",
          "height": 34
        },
        "outputId": "79336a36-13e5-4ca8-f66a-7e65a06e037d"
      },
      "source": [
        "Tup =(1,2,3,4)\n",
        "Tup"
      ],
      "execution_count": 82,
      "outputs": [
        {
          "output_type": "execute_result",
          "data": {
            "text/plain": [
              "(1, 2, 3, 4)"
            ]
          },
          "metadata": {
            "tags": []
          },
          "execution_count": 82
        }
      ]
    },
    {
      "cell_type": "code",
      "metadata": {
        "id": "98rospK_w8eq",
        "colab_type": "code",
        "colab": {
          "base_uri": "https://localhost:8080/",
          "height": 34
        },
        "outputId": "82d9e257-32c3-47d9-d646-4295b4303f14"
      },
      "source": [
        "Tup =(1,2,3,4,2,4,2,5,35,3,2,22,2,34,2)\n",
        "x =Tup.count(2)\n",
        "print(x)"
      ],
      "execution_count": 84,
      "outputs": [
        {
          "output_type": "stream",
          "text": [
            "6\n"
          ],
          "name": "stdout"
        }
      ]
    },
    {
      "cell_type": "code",
      "metadata": {
        "id": "SmZxfGmww83V",
        "colab_type": "code",
        "colab": {
          "base_uri": "https://localhost:8080/",
          "height": 34
        },
        "outputId": "2efada90-ef8d-4032-828d-2e9d0d6c2838"
      },
      "source": [
        "Tup =(1,2,3,4,2,4,2,5,35,3,2,22,2,34,2)\n",
        "x =Tup.index(35)\n",
        "print(x)"
      ],
      "execution_count": 88,
      "outputs": [
        {
          "output_type": "stream",
          "text": [
            "8\n"
          ],
          "name": "stdout"
        }
      ]
    },
    {
      "cell_type": "markdown",
      "metadata": {
        "id": "RDVytNOT5dha",
        "colab_type": "text"
      },
      "source": [
        "# String"
      ]
    },
    {
      "cell_type": "code",
      "metadata": {
        "id": "ev10RGkAw9Ph",
        "colab_type": "code",
        "colab": {
          "base_uri": "https://localhost:8080/",
          "height": 34
        },
        "outputId": "1029aa56-7860-429f-e507-24ba69157068"
      },
      "source": [
        "St = \"hello, and welcome to my dark life.\"\n",
        "x = St.capitalize()\n",
        "print(x)"
      ],
      "execution_count": 99,
      "outputs": [
        {
          "output_type": "stream",
          "text": [
            "Hello, and welcome to my dark life.\n"
          ],
          "name": "stdout"
        }
      ]
    },
    {
      "cell_type": "code",
      "metadata": {
        "id": "rN4TzH7iw9mC",
        "colab_type": "code",
        "colab": {
          "base_uri": "https://localhost:8080/",
          "height": 34
        },
        "outputId": "c7f7e7d0-9378-42a4-b262-04567fc39b5b"
      },
      "source": [
        " \n",
        "txt = \"My name is Simran\"\n",
        "x = txt.encode()\n",
        "print(x)"
      ],
      "execution_count": 102,
      "outputs": [
        {
          "output_type": "stream",
          "text": [
            "b'My name is Simran'\n"
          ],
          "name": "stdout"
        }
      ]
    },
    {
      "cell_type": "code",
      "metadata": {
        "id": "a1HT3DLGw9-a",
        "colab_type": "code",
        "colab": {
          "base_uri": "https://localhost:8080/",
          "height": 34
        },
        "outputId": "0a23d0b6-d88d-4fb6-a6aa-9dd6fd915db9"
      },
      "source": [
        " txt = \"My name is Simran\"\n",
        "x = txt.split()\n",
        "print(x)"
      ],
      "execution_count": 103,
      "outputs": [
        {
          "output_type": "stream",
          "text": [
            "['My', 'name', 'is', 'Simran']\n"
          ],
          "name": "stdout"
        }
      ]
    },
    {
      "cell_type": "code",
      "metadata": {
        "id": "vWs7QYbZw-Wg",
        "colab_type": "code",
        "colab": {
          "base_uri": "https://localhost:8080/",
          "height": 34
        },
        "outputId": "e2e8dd65-1473-4882-9a0a-937a5fdf4079"
      },
      "source": [
        " \n",
        "txt = \"my name is SIMRAN SINGH\"\n",
        "x = txt.swapcase()\n",
        "print(x)"
      ],
      "execution_count": 104,
      "outputs": [
        {
          "output_type": "stream",
          "text": [
            "MY NAME IS simran singh\n"
          ],
          "name": "stdout"
        }
      ]
    },
    {
      "cell_type": "code",
      "metadata": {
        "id": "PYqCoQIYw-sg",
        "colab_type": "code",
        "colab": {
          "base_uri": "https://localhost:8080/",
          "height": 34
        },
        "outputId": "221c1785-0672-4aa9-ae0f-e16615d03eb2"
      },
      "source": [
        "txt = \"5670\"\n",
        "x = txt.zfill(10)\n",
        "print(x)"
      ],
      "execution_count": 107,
      "outputs": [
        {
          "output_type": "stream",
          "text": [
            "0000005670\n"
          ],
          "name": "stdout"
        }
      ]
    }
  ]
}